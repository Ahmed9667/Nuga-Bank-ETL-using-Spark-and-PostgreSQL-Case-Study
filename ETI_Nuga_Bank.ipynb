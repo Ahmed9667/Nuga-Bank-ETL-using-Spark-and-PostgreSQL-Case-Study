{
 "cells": [
  {
   "cell_type": "code",
   "execution_count": 1,
   "metadata": {},
   "outputs": [],
   "source": [
    "import findspark\n",
    "findspark.init()\n",
    "from pyspark.sql import SparkSession\n",
    "#! pip install pandas\n",
    "import pandas as pd\n",
    "#! pip install sqlalchemy\n",
    "from sqlalchemy import create_engine"
   ]
  },
  {
   "cell_type": "code",
   "execution_count": 3,
   "metadata": {},
   "outputs": [],
   "source": [
    "#initialize spark session\n",
    "spark = SparkSession.builder \\\n",
    "    .appName(\"MyApp\") \\\n",
    "    .config(\"spark.driver.memory\", \"4g\") \\\n",
    "    .getOrCreate()"
   ]
  },
  {
   "cell_type": "code",
   "execution_count": 5,
   "metadata": {},
   "outputs": [
    {
     "name": "stdout",
     "output_type": "stream",
     "text": [
      "+--------------------+------+----------------+-----------------+--------------------+--------------------+--------------+--------------------+--------------------+--------------------+--------------------+-------------------+-------------------+--------------------+-------------+-------------+--------+-----+---------+--------------------+--------------------+------+--------------+\n",
      "|    Transaction_Date|Amount|Transaction_Type|    Customer_Name|    Customer_Address|       Customer_City|Customer_State|    Customer_Country|             Company|           Job_Title|               Email|       Phone_Number| Credit_Card_Number|                IBAN|Currency_Code|Random_Number|Category|Group|Is_Active|        Last_Updated|         Description|Gender|Marital_Status|\n",
      "+--------------------+------+----------------+-----------------+--------------------+--------------------+--------------+--------------------+--------------------+--------------------+--------------------+-------------------+-------------------+--------------------+-------------+-------------+--------+-----+---------+--------------------+--------------------+------+--------------+\n",
      "|2024-03-23 15:38:...| 34.76|      Withdrawal|       James Neal|54912 Holmes Lodg...|   West Keithborough|       Florida|                Togo|Benson, Johnson a...|                NULL|                NULL|  493.720.6609x7545|   3592901394693441|GB98RBPP090285271...|          MAD|       3167.0|       C|    Z|       No|2020-06-20 03:04:...|Yeah food anythin...| Other|      Divorced|\n",
      "|2024-04-22 19:15:...|163.92|      Withdrawal|      Thomas Long| 1133 Collin Passage|          Joshuabury|   Connecticut|Lao People's Demo...|                NULL|   Food technologist|michellelynch@exa...|      (497)554-3317|               NULL|GB03KFZR339662263...|          VEF|       2122.0|       B|    Z|     NULL|2020-12-27 13:23:...|Teach edge make n...|Female|       Married|\n",
      "|2024-04-12 19:46:...|386.32|      Withdrawal|   Ashley Shelton|5297 Johnson Port...|         North Maria|    New Jersey|              Bhutan|       Jones-Mueller|Database administ...| ljordan@example.org|      (534)769-3072|       675983949974|GB59QYRN446730519...|          COP|       7796.0|       C|    Z|       No|2020-01-24 01:23:...|Again line face c...| Other|          NULL|\n",
      "|2024-04-17 15:29:...|407.15|         Deposit|    James Rosario|56955 Moore Glens...|  North Michellefurt|    New Mexico|             Iceland|       Vargas-Harris|Horticultural the...|parkerjames@examp...|+1-447-900-1320x257|      4761202519057|GB74FTDO268299438...|          BWP|       6284.0|       C|    Z|      Yes|2023-09-27 03:01:...|     Bag my a drive.|  NULL|          NULL|\n",
      "|2024-02-10 01:51:...|161.31|         Deposit|   Miguel Leonard|262 Beck Expressw...|                NULL| West Virginia|             Eritrea|Richardson, Gonza...|   Minerals surveyor| zweaver@example.net|               NULL|    213156729655186|GB94EWRN587847592...|          SOS|       9179.0|       C|    Y|       No|2022-01-22 19:08:...|Husband find ok w...|Female|       Married|\n",
      "|2024-02-10 22:56:...|764.34|        Transfer|      Jesse Clark|      194 Derek Burg|        Wallacemouth|    New Mexico|             Estonia|           Smith Ltd| Seismic interpreter|benjaminwalker@ex...|   229-511-2530x870|       501851472974|                NULL|          ZWD|         NULL|       B|    Z|      Yes|2023-02-18 19:26:...|                NULL| Other|       Married|\n",
      "|2024-04-07 00:07:...|734.59|         Deposit|       Mark Estes|4077 James Lane A...|      Williamsonport|      Michigan|Antarctica (the t...|         Wade-Kelley|  Surveyor, minerals|karenrobinson@exa...|      (840)334-1610|4543690154172468535|GB55FCPC779828821...|          CAD|       7304.0|       A|    X|      Yes|2020-10-27 16:48:...|Standard prepare ...|  Male|          NULL|\n",
      "|2024-03-08 01:51:...|592.43|         Deposit|       Kelly Ruiz|                NULL|          New Lauren|          NULL|                NULL|                NULL|Medical laborator...|  iestes@example.org| 495.430.4276x42618|      4500718397537|GB78FDAJ595830659...|          RON|       2445.0|       B|    X|       No|2022-11-19 08:59:...|                NULL|Female|        Single|\n",
      "|2024-04-02 06:21:...|472.35|        Transfer|             NULL|1467 Heather Vill...|         Conniemouth|          NULL|               Macao|Ellis, Smith and ...|Television/film/v...|rebeccarodriguez@...|       511.666.5891|      4884893247570|GB91HQDO449272193...|          LTL|       2721.0|    NULL|    Z|       No|                NULL|Leg out walk rece...| Other|          NULL|\n",
      "|2024-02-01 12:34:...| 927.1|         Deposit|        Brad Yang|    579 Nolan Harbor|South Christopher...|  South Dakota|                NULL|         Lindsey LLC|Programmer, appli...|maryduran@example...|  (241)738-0972x658|    180039947294310|GB48WNWB013807482...|          HRK|       3061.0|       B|    X|       No|2020-08-31 20:40:...|Notice paper son ...|Female|        Single|\n",
      "|2024-03-22 16:46:...| 66.59|        Transfer|   Dalton Jimenez|4330 Christine Vista|        Port Kirsten|          NULL|            Cameroon|         Carroll LLC|                NULL|                NULL|       670-499-0309|    213171934267032|GB05MHXA361278613...|          BAM|       3958.0|    NULL| NULL|      Yes|2022-09-19 03:52:...|He wish soldier t...|  Male|        Single|\n",
      "|2024-04-23 13:30:...| 246.3|      Withdrawal|   Paige Sheppard|0947 Mendez Under...|          Medinastad|North Carolina|             Iceland|                NULL|     Sales executive|  eric64@example.net|               NULL|    342940028197162|GB54HHLQ489156729...|          ZWD|       8312.0|    NULL|    Z|      Yes|2023-06-02 04:34:...|This speak buildi...|  Male|      Divorced|\n",
      "|2024-04-24 20:44:...| 17.74|        Transfer|        Ryan Rice|63191 Carol River...|       North Heather|      Virginia|               Gabon|     Arnold-Hamilton|Biomedical scientist|gonzalestammy@exa...|      (891)958-6442|   4263644221766495|GB47BGNG208602249...|          AOA|       6148.0|       D|    Y|       No|                NULL|Camera spring tea...|Female|          NULL|\n",
      "|2024-02-23 05:48:...|640.74|      Withdrawal|   Danielle Young| 8484 Kelley Circles|           Karahaven|    New Jersey|            Dominica|        Fox and Sons|Operational inves...| maria62@example.net|               NULL|       675908517708|GB92DFSO760691881...|          TJS|         NULL|       B|    Z|      Yes|                NULL|Occur second offe...|Female|       Married|\n",
      "|2024-01-13 01:22:...|782.32|      Withdrawal|   Stephen Nguyen|    01696 Brown Cape|          South Mary|       Wyoming|Heard Island and ...|Lynch, Hayes and ...|       Stage manager|stewartjames@exam...|  680-460-3674x6031|   4304956118653227|GB15VYWJ018711823...|          NIO|       2502.0|       B|    Y|      Yes|2021-04-12 20:23:...|Rest theory serve...|  NULL|       Married|\n",
      "|2024-02-25 15:16:...|818.42|      Withdrawal|    Renee Roberts|7591 Ponce Unions...|          Amandaside| Massachusetts|            Barbados|           Green Ltd|Psychologist, pri...|                NULL|       695-680-5744|   6011259703732723|GB34HWCA758164830...|          AFN|       4452.0|       C| NULL|       No|2023-07-09 08:03:...|Program sense arm...|  Male|          NULL|\n",
      "|2024-01-01 20:55:...|352.23|      Withdrawal|Jacqueline Thomas|172 Morse Falls A...|         Bennettbury|      Oklahoma|                Fiji|                NULL|Designer, blown g...|  mark84@example.com| 484.837.6166x81262|     30287519972043|GB62WWAH360646956...|          VUV|       2251.0|       C|    Z|      Yes|2022-02-07 00:48:...|Prepare other los...|Female|        Single|\n",
      "|2024-01-19 00:01:...|316.19|      Withdrawal|     Joseph Pratt|71283 Thomas Port...|        Lake Michele|        Nevada|     Kyrgyz Republic|     Morris-Reynolds|          Podiatrist|robert02@example.com| 623.219.7997x39012|   3555463260975431|GB28XTGC966091493...|          PHP|       2208.0|       C|    Y|      Yes|2023-10-16 00:05:...|Blood painting sp...| Other|       Married|\n",
      "|2024-04-09 14:40:...|662.26|      Withdrawal|        Tara Gray|    3476 Johnny Loaf|     South Davidland|     Tennessee|               Tonga|         Sutton-Owen|   Financial planner|ewilliams@example...|               NULL|   6517022443907149|GB64TDZA391035546...|          GNF|         NULL|       C|    X|      Yes|2022-04-21 21:43:...|Station professio...| Other|       Married|\n",
      "|2024-04-15 04:58:...|893.73|         Deposit|  Dominique Lynch|   181 Gregory Ferry|           Jamesfort|         Maine|               Kenya|         Brown Group|Nutritional thera...|suzanne41@example...|       448-821-0207|   3564854271916761|GB58VVHN678787830...|          AED|       2546.0|       B|    Y|      Yes|2021-09-14 07:15:...|Letter hand soldi...| Other|       Married|\n",
      "+--------------------+------+----------------+-----------------+--------------------+--------------------+--------------+--------------------+--------------------+--------------------+--------------------+-------------------+-------------------+--------------------+-------------+-------------+--------+-----+---------+--------------------+--------------------+------+--------------+\n",
      "only showing top 20 rows\n",
      "\n"
     ]
    }
   ],
   "source": [
    "df = spark.read.csv(r'E:\\10alytics Data Engineering\\week 9\\material\\nuga_bank_transactions.csv',header=True, inferSchema=True)\n",
    "df.show()"
   ]
  },
  {
   "cell_type": "code",
   "execution_count": 7,
   "metadata": {},
   "outputs": [
    {
     "name": "stdout",
     "output_type": "stream",
     "text": [
      "Number of rows = 1000000\n"
     ]
    }
   ],
   "source": [
    "print(f'Number of rows = {df.count()}')"
   ]
  },
  {
   "cell_type": "code",
   "execution_count": 9,
   "metadata": {},
   "outputs": [
    {
     "name": "stdout",
     "output_type": "stream",
     "text": [
      "+-------+-----------------+----------------+-------------+--------------------+-------------+--------------+----------------+-------------+------------------+-------------------+-------------------+--------------------+--------------------+-------------+------------------+--------+------+---------+--------------------+------+--------------+\n",
      "|summary|           Amount|Transaction_Type|Customer_Name|    Customer_Address|Customer_City|Customer_State|Customer_Country|      Company|         Job_Title|              Email|       Phone_Number|  Credit_Card_Number|                IBAN|Currency_Code|     Random_Number|Category| Group|Is_Active|         Description|Gender|Marital_Status|\n",
      "+-------+-----------------+----------------+-------------+--------------------+-------------+--------------+----------------+-------------+------------------+-------------------+-------------------+--------------------+--------------------+-------------+------------------+--------+------+---------+--------------------+------+--------------+\n",
      "|  count|          1000000|         1000000|       899575|              899913|       899966|        899991|          899328|       899705|            900076|             899957|             899476|              899915|              899700|       900658|            900087|  899668|899791|   899741|              899597|900233|        900096|\n",
      "|   mean|504.9737112199981|            NULL|         NULL|                NULL|         NULL|          NULL|            NULL|         NULL|              NULL|               NULL| 6.00341888622502E9|3.785330130644790...|                NULL|         NULL| 5504.445295843624|    NULL|  NULL|     NULL|                NULL|  NULL|          NULL|\n",
      "| stddev|285.7997202441234|            NULL|         NULL|                NULL|         NULL|          NULL|            NULL|         NULL|              NULL|               NULL|2.307111981222392E9|1.247765855631418...|                NULL|         NULL|2598.1680843741237|    NULL|  NULL|     NULL|                NULL|  NULL|          NULL|\n",
      "|    min|             10.0|         Deposit| Aaron Abbott|000 Aaron Landing...|    Aaronberg|       Alabama|     Afghanistan| Abbott Group|Academic librarian|aabbott@example.com|      (200)201-4254|         60400015693|GB02AAAU191993009...|          AED|            1000.0|       A|     X|       No|A American and to...|Female|      Divorced|\n",
      "|    max|           1000.0|      Withdrawal|    Zoe Young|    99999 Mark Vista|  Zunigaville|       Wyoming|        Zimbabwe|Zuniga-Wilson|      Youth worker|zzuniga@example.org|         9999777682| 4999984361512569455|GB98ZZXM257326775...|          ZWD|            9999.0|       D|     Z|      Yes|Yourself young ev...| Other|        Single|\n",
      "+-------+-----------------+----------------+-------------+--------------------+-------------+--------------+----------------+-------------+------------------+-------------------+-------------------+--------------------+--------------------+-------------+------------------+--------+------+---------+--------------------+------+--------------+\n",
      "\n"
     ]
    }
   ],
   "source": [
    "df.describe().show()"
   ]
  },
  {
   "cell_type": "code",
   "execution_count": 11,
   "metadata": {},
   "outputs": [
    {
     "name": "stdout",
     "output_type": "stream",
     "text": [
      "root\n",
      " |-- Transaction_Date: timestamp (nullable = true)\n",
      " |-- Amount: double (nullable = true)\n",
      " |-- Transaction_Type: string (nullable = true)\n",
      " |-- Customer_Name: string (nullable = true)\n",
      " |-- Customer_Address: string (nullable = true)\n",
      " |-- Customer_City: string (nullable = true)\n",
      " |-- Customer_State: string (nullable = true)\n",
      " |-- Customer_Country: string (nullable = true)\n",
      " |-- Company: string (nullable = true)\n",
      " |-- Job_Title: string (nullable = true)\n",
      " |-- Email: string (nullable = true)\n",
      " |-- Phone_Number: string (nullable = true)\n",
      " |-- Credit_Card_Number: long (nullable = true)\n",
      " |-- IBAN: string (nullable = true)\n",
      " |-- Currency_Code: string (nullable = true)\n",
      " |-- Random_Number: double (nullable = true)\n",
      " |-- Category: string (nullable = true)\n",
      " |-- Group: string (nullable = true)\n",
      " |-- Is_Active: string (nullable = true)\n",
      " |-- Last_Updated: timestamp (nullable = true)\n",
      " |-- Description: string (nullable = true)\n",
      " |-- Gender: string (nullable = true)\n",
      " |-- Marital_Status: string (nullable = true)\n",
      "\n"
     ]
    }
   ],
   "source": [
    "df.printSchema()"
   ]
  },
  {
   "cell_type": "markdown",
   "metadata": {},
   "source": [
    "Data Cleaning"
   ]
  },
  {
   "cell_type": "code",
   "execution_count": 13,
   "metadata": {},
   "outputs": [
    {
     "name": "stdout",
     "output_type": "stream",
     "text": [
      "Number of nulls in Transaction_Date = 0\n",
      "Number of nulls in Amount = 0\n",
      "Number of nulls in Transaction_Type = 0\n",
      "Number of nulls in Customer_Name = 100425\n",
      "Number of nulls in Customer_Address = 100087\n",
      "Number of nulls in Customer_City = 100034\n",
      "Number of nulls in Customer_State = 100009\n",
      "Number of nulls in Customer_Country = 100672\n",
      "Number of nulls in Company = 100295\n",
      "Number of nulls in Job_Title = 99924\n",
      "Number of nulls in Email = 100043\n",
      "Number of nulls in Phone_Number = 100524\n",
      "Number of nulls in Credit_Card_Number = 100085\n",
      "Number of nulls in IBAN = 100300\n",
      "Number of nulls in Currency_Code = 99342\n",
      "Number of nulls in Random_Number = 99913\n",
      "Number of nulls in Category = 100332\n",
      "Number of nulls in Group = 100209\n",
      "Number of nulls in Is_Active = 100259\n",
      "Number of nulls in Last_Updated = 100321\n",
      "Number of nulls in Description = 100403\n",
      "Number of nulls in Gender = 99767\n",
      "Number of nulls in Marital_Status = 99904\n"
     ]
    }
   ],
   "source": [
    "for i in df.columns:\n",
    "    no_of_null = df.filter(df[i].isNull()).count()\n",
    "    print(f'Number of nulls in {i} = {no_of_null}')"
   ]
  },
  {
   "cell_type": "code",
   "execution_count": 15,
   "metadata": {},
   "outputs": [
    {
     "name": "stdout",
     "output_type": "stream",
     "text": [
      "['Customer_Name', 'Customer_Address', 'Customer_City', 'Customer_State', 'Customer_Country', 'Company', 'Job_Title', 'Email', 'Phone_Number', 'Credit_Card_Number', 'IBAN', 'Currency_Code', 'Random_Number', 'Category', 'Group', 'Is_Active', 'Last_Updated', 'Description', 'Gender', 'Marital_Status']\n"
     ]
    }
   ],
   "source": [
    "#check for columns who has null values only\n",
    "null_cols = []\n",
    "for i in df.columns:\n",
    "    nulls = df.filter(df[i].isNull()).count()\n",
    "    if nulls > 0 :\n",
    "        null_cols.append(i)\n",
    "print(null_cols)        "
   ]
  },
  {
   "cell_type": "code",
   "execution_count": 17,
   "metadata": {},
   "outputs": [
    {
     "name": "stdout",
     "output_type": "stream",
     "text": [
      "root\n",
      " |-- Customer_Name: string (nullable = true)\n",
      " |-- Customer_Address: string (nullable = true)\n",
      " |-- Customer_City: string (nullable = true)\n",
      " |-- Customer_State: string (nullable = true)\n",
      " |-- Customer_Country: string (nullable = true)\n",
      " |-- Company: string (nullable = true)\n",
      " |-- Job_Title: string (nullable = true)\n",
      " |-- Email: string (nullable = true)\n",
      " |-- Phone_Number: string (nullable = true)\n",
      " |-- Credit_Card_Number: long (nullable = true)\n",
      " |-- IBAN: string (nullable = true)\n",
      " |-- Currency_Code: string (nullable = true)\n",
      " |-- Random_Number: double (nullable = true)\n",
      " |-- Category: string (nullable = true)\n",
      " |-- Group: string (nullable = true)\n",
      " |-- Is_Active: string (nullable = true)\n",
      " |-- Last_Updated: timestamp (nullable = true)\n",
      " |-- Description: string (nullable = true)\n",
      " |-- Gender: string (nullable = true)\n",
      " |-- Marital_Status: string (nullable = true)\n",
      "\n"
     ]
    }
   ],
   "source": [
    "df.select(null_cols).printSchema()"
   ]
  },
  {
   "cell_type": "code",
   "execution_count": 19,
   "metadata": {},
   "outputs": [
    {
     "data": {
      "text/plain": [
       "'string'"
      ]
     },
     "execution_count": 19,
     "metadata": {},
     "output_type": "execute_result"
    }
   ],
   "source": [
    "dict(df.dtypes)['Customer_Address']"
   ]
  },
  {
   "cell_type": "code",
   "execution_count": 21,
   "metadata": {},
   "outputs": [],
   "source": [
    "# fill null values\n",
    "for i in df.columns:\n",
    "    if dict(df.dtypes)[i] == 'string':\n",
    "        df = df.fillna('unknown',subset=i)\n",
    "    else:\n",
    "          df = df.fillna(0,subset=i)  "
   ]
  },
  {
   "cell_type": "code",
   "execution_count": 23,
   "metadata": {},
   "outputs": [
    {
     "name": "stdout",
     "output_type": "stream",
     "text": [
      "Null values in Transaction_Date = 0\n",
      "Null values in Amount = 0\n",
      "Null values in Transaction_Type = 0\n",
      "Null values in Customer_Name = 0\n",
      "Null values in Customer_Address = 0\n",
      "Null values in Customer_City = 0\n",
      "Null values in Customer_State = 0\n",
      "Null values in Customer_Country = 0\n",
      "Null values in Company = 0\n",
      "Null values in Job_Title = 0\n",
      "Null values in Email = 0\n",
      "Null values in Phone_Number = 0\n",
      "Null values in Credit_Card_Number = 0\n",
      "Null values in IBAN = 0\n",
      "Null values in Currency_Code = 0\n",
      "Null values in Random_Number = 0\n",
      "Null values in Category = 0\n",
      "Null values in Group = 0\n",
      "Null values in Is_Active = 0\n",
      "Null values in Last_Updated = 100321\n",
      "Null values in Description = 0\n",
      "Null values in Gender = 0\n",
      "Null values in Marital_Status = 0\n"
     ]
    }
   ],
   "source": [
    "# check for null values\n",
    "for i in df.columns:\n",
    "    nulls = df.filter(df[i].isNull()).count()\n",
    "    print(f'Null values in {i} = {nulls}')"
   ]
  },
  {
   "cell_type": "markdown",
   "metadata": {},
   "source": [
    "###### We notice that all columns are clean except column `Last_Udated` so we will drop rows with null values"
   ]
  },
  {
   "cell_type": "code",
   "execution_count": 25,
   "metadata": {},
   "outputs": [],
   "source": [
    "df = df.na.drop(subset='Last_Updated')"
   ]
  },
  {
   "cell_type": "code",
   "execution_count": 27,
   "metadata": {},
   "outputs": [
    {
     "name": "stdout",
     "output_type": "stream",
     "text": [
      "Null values in Transaction_Date = 0\n",
      "Null values in Amount = 0\n",
      "Null values in Transaction_Type = 0\n",
      "Null values in Customer_Name = 0\n",
      "Null values in Customer_Address = 0\n",
      "Null values in Customer_City = 0\n",
      "Null values in Customer_State = 0\n",
      "Null values in Customer_Country = 0\n",
      "Null values in Company = 0\n",
      "Null values in Job_Title = 0\n",
      "Null values in Email = 0\n",
      "Null values in Phone_Number = 0\n",
      "Null values in Credit_Card_Number = 0\n",
      "Null values in IBAN = 0\n",
      "Null values in Currency_Code = 0\n",
      "Null values in Random_Number = 0\n",
      "Null values in Category = 0\n",
      "Null values in Group = 0\n",
      "Null values in Is_Active = 0\n",
      "Null values in Last_Updated = 0\n",
      "Null values in Description = 0\n",
      "Null values in Gender = 0\n",
      "Null values in Marital_Status = 0\n"
     ]
    }
   ],
   "source": [
    "#Check for cleaning data\n",
    "for i in df.columns:\n",
    "    nulls= df.filter(df[i].isNull()).count()\n",
    "    print(f'Null values in {i} = {nulls}')"
   ]
  },
  {
   "cell_type": "code",
   "execution_count": 29,
   "metadata": {},
   "outputs": [
    {
     "name": "stdout",
     "output_type": "stream",
     "text": [
      "Rows = 899679\n",
      "columns = 23\n"
     ]
    }
   ],
   "source": [
    "num_of_rows = df.count()\n",
    "num_of_cols = len(df.columns)\n",
    "print(f'Rows = {num_of_rows}')\n",
    "print(f'columns = {num_of_cols}')"
   ]
  },
  {
   "cell_type": "markdown",
   "metadata": {},
   "source": [
    "Data Transformation"
   ]
  },
  {
   "cell_type": "code",
   "execution_count": 31,
   "metadata": {
    "scrolled": true
   },
   "outputs": [
    {
     "data": {
      "text/plain": [
       "['Transaction_Date',\n",
       " 'Amount',\n",
       " 'Transaction_Type',\n",
       " 'Customer_Name',\n",
       " 'Customer_Address',\n",
       " 'Customer_City',\n",
       " 'Customer_State',\n",
       " 'Customer_Country',\n",
       " 'Company',\n",
       " 'Job_Title',\n",
       " 'Email',\n",
       " 'Phone_Number',\n",
       " 'Credit_Card_Number',\n",
       " 'IBAN',\n",
       " 'Currency_Code',\n",
       " 'Random_Number',\n",
       " 'Category',\n",
       " 'Group',\n",
       " 'Is_Active',\n",
       " 'Last_Updated',\n",
       " 'Description',\n",
       " 'Gender',\n",
       " 'Marital_Status']"
      ]
     },
     "execution_count": 31,
     "metadata": {},
     "output_type": "execute_result"
    }
   ],
   "source": [
    "df.columns"
   ]
  },
  {
   "cell_type": "markdown",
   "metadata": {},
   "source": [
    "Transform Data"
   ]
  },
  {
   "cell_type": "code",
   "execution_count": 35,
   "metadata": {},
   "outputs": [
    {
     "name": "stdout",
     "output_type": "stream",
     "text": [
      "+--------------+--------------------+------+----------------+\n",
      "|transaction_id|    Transaction_Date|Amount|Transaction_Type|\n",
      "+--------------+--------------------+------+----------------+\n",
      "|             1|2024-03-03 03:50:...|  10.0|      Withdrawal|\n",
      "|             2|2024-02-07 17:28:...|  10.0|      Withdrawal|\n",
      "|             3|2024-02-07 01:47:...|  10.0|         Deposit|\n",
      "+--------------+--------------------+------+----------------+\n",
      "only showing top 3 rows\n",
      "\n"
     ]
    }
   ],
   "source": [
    "#create table transaction\n",
    "from pyspark.sql.functions import row_number\n",
    "from pyspark.sql.window import Window \n",
    "\n",
    "transaction = df.select('Transaction_Date','Amount','Transaction_Type')\n",
    "\n",
    "#create column transaction_id with unique IDs\n",
    "w = Window.orderBy('Amount') #To create sequential IDs ordered by columns in DataFrame\n",
    "transaction = transaction.withColumn('transaction_id', row_number().over(w) )\n",
    "\n",
    "#reordering columns\n",
    "transaction = transaction.select('transaction_id','Transaction_Date','Amount','Transaction_Type')\n",
    "transaction.show(3)"
   ]
  },
  {
   "cell_type": "code",
   "execution_count": 37,
   "metadata": {},
   "outputs": [
    {
     "name": "stdout",
     "output_type": "stream",
     "text": [
      "+-----------+-------------+--------------------+-----------------+--------------+----------------+--------------------+-----------------+\n",
      "|customer_id|Customer_Name|    Customer_Address|    Customer_City|Customer_State|Customer_Country|               Email|     Phone_Number|\n",
      "+-----------+-------------+--------------------+-----------------+--------------+----------------+--------------------+-----------------+\n",
      "|          1| Aaron Abbott|    152 Alicia Forge|     Fletcherfort|       unknown|        Colombia|jeanlane@example.org| 001-427-977-6354|\n",
      "|          2| Aaron Abbott|879 Jason Extensi...|          unknown| New Hampshire| Kyrgyz Republic|baileyzachary@exa...|       9489401862|\n",
      "|          3| Aaron Acosta|576 Mary Inlet Su...|North Sandramouth|      Virginia|         Iceland| bryan91@example.com|697-358-6082x4103|\n",
      "+-----------+-------------+--------------------+-----------------+--------------+----------------+--------------------+-----------------+\n",
      "only showing top 3 rows\n",
      "\n"
     ]
    }
   ],
   "source": [
    "# create table customer\n",
    "customer = df.select('Customer_Name',\n",
    " 'Customer_Address',\n",
    " 'Customer_City',\n",
    " 'Customer_State',\n",
    " 'Customer_Country','Email',\n",
    " 'Phone_Number')\n",
    "\n",
    "w = Window.orderBy('Customer_Name')\n",
    "\n",
    "#create column customer_id with unique IDS\n",
    "customer = customer.withColumn('customer_id', row_number().over(w))\n",
    "\n",
    "#reorder columns\n",
    "customer = customer.select('customer_id','Customer_Name',\n",
    " 'Customer_Address',\n",
    " 'Customer_City',\n",
    " 'Customer_State',\n",
    " 'Customer_Country','Email',\n",
    " 'Phone_Number')\n",
    "customer.show(3)"
   ]
  },
  {
   "cell_type": "code",
   "execution_count": 39,
   "metadata": {},
   "outputs": [
    {
     "name": "stdout",
     "output_type": "stream",
     "text": [
      "+-----------+------------+--------------------+------+--------------+\n",
      "|employee_id|     Company|           Job_Title|Gender|Marital_Status|\n",
      "+-----------+------------+--------------------+------+--------------+\n",
      "|          1|Abbott Group|          Orthoptist|Female|       unknown|\n",
      "|          2|Abbott Group|   Therapist, sports|Female|      Divorced|\n",
      "|          3|Abbott Group|Journalist, newsp...| Other|        Single|\n",
      "+-----------+------------+--------------------+------+--------------+\n",
      "only showing top 3 rows\n",
      "\n"
     ]
    }
   ],
   "source": [
    "#create table employee\n",
    "employee = df.select('Company','Job_Title','Gender','Marital_Status')\n",
    "\n",
    "#create column employee_id with unique IDs\n",
    "w = Window.orderBy('Company')\n",
    "employee = employee.withColumn('employee_id', row_number().over(w))\n",
    "\n",
    "#reorder columns\n",
    "employee = employee.select('employee_id','Company','Job_Title','Gender','Marital_Status')\n",
    "employee.show(3)"
   ]
  },
  {
   "cell_type": "code",
   "execution_count": 41,
   "metadata": {},
   "outputs": [
    {
     "name": "stdout",
     "output_type": "stream",
     "text": [
      "+--------------+-----------+-----------+------------------+--------------------+-------------+-------------+--------+-------+---------+--------------------+--------------------+\n",
      "|transaction_id|customer_id|employee_id|Credit_Card_Number|                IBAN|Currency_Code|Random_Number|Category|  Group|Is_Active|        Last_Updated|         Description|\n",
      "+--------------+-----------+-----------+------------------+--------------------+-------------+-------------+--------+-------+---------+--------------------+--------------------+\n",
      "|        109381|     160945|      17048|      630428157006|GB86GLHT381589496...|      unknown|       5000.0|       A|      Z|       No|2023-10-14 00:47:...|Everything decade...|\n",
      "|        818775|     478100|     119508|  6595994198943849|             unknown|          KPW|       5778.0|       A|unknown|       No|2022-08-17 18:44:...|             unknown|\n",
      "|        487638|     295225|     173035|    38082745081301|             unknown|          DJF|          0.0|       A|      Z|      Yes|2021-05-24 05:28:...|Into because end....|\n",
      "|        750452|     431175|     224364|    30448552436896|             unknown|          ISK|       1108.0|       A|      Y|       No|2022-12-06 03:53:...|Wrong part rest c...|\n",
      "|        866962|     719306|     236930|   213133896337542|GB07IUUE487965913...|          ISK|          0.0|       D|      Y|       No|2023-08-16 10:32:...|Themselves make ago.|\n",
      "|        402513|     544545|     240445|  3542448933285876|GB22VSFS474270337...|      unknown|       6216.0|       A|      X|       No|2020-08-05 03:15:...|Meet PM worry who...|\n",
      "|        734810|     643588|     256187|  6011259703732723|GB34HWCA758164830...|          AFN|       4452.0|       C|unknown|       No|2023-07-09 08:03:...|Program sense arm...|\n",
      "|        720657|     206638|     266383|   213106153459068|             unknown|      unknown|       7296.0|       B|      Z|      Yes|2022-04-10 16:15:...|Surface among tru...|\n",
      "|        360799|     566526|     270204|  5388658592185363|GB09MHOG513401686...|          NIS|       4609.0|       C|      Z|       No|2021-11-19 11:47:...|             unknown|\n",
      "|         46862|       1966|     285632|   213186454811670|GB77SPMZ984195063...|          SOS|       7610.0|       C|      X|       No|2021-04-15 13:30:...|Concern remember ...|\n",
      "|        463353|     595414|     327811|  6011177559558424|GB76DNER497098023...|          BZD|       6499.0|       D|      X|  unknown|2020-02-09 13:11:...|Risk take recent ...|\n",
      "|        467583|     718505|     369191|  6574717409681808|GB58ZWIH992989778...|          LSL|          0.0|       B|      Y|       No|2021-11-04 10:41:...|Any state recogni...|\n",
      "|        482804|      81572|     520364|      639006216746|GB81CQQR004909975...|      unknown|       8199.0|       B|      Y|       No|2024-03-31 18:51:...|Try step sound. B...|\n",
      "|        701933|     749782|     793445|      676165997344|             unknown|          AZN|       6821.0|       A|      Z|       No|2022-07-01 23:12:...|Bag foot store su...|\n",
      "|        164874|     759940|     834731|  6011153251503935|GB28FTRX421798999...|          CHF|       1792.0|       C|      Z|      Yes|2020-07-14 19:25:...|Compare sell bank...|\n",
      "|        164874|     759940|     839012|  6011153251503935|GB28FTRX421798999...|          CHF|       1792.0|       C|      Z|      Yes|2020-07-14 19:25:...|Compare sell bank...|\n",
      "|        164874|     759940|     877984|  6011153251503935|GB28FTRX421798999...|          CHF|       1792.0|       C|      Z|      Yes|2020-07-14 19:25:...|Compare sell bank...|\n",
      "|        139465|     755745|     809399|                 0|GB03KFZR339662263...|          VEF|       2122.0|       B|      Z|  unknown|2020-12-27 13:23:...|Teach edge make n...|\n",
      "|        139465|     755745|     818161|                 0|GB03KFZR339662263...|          VEF|       2122.0|       B|      Z|  unknown|2020-12-27 13:23:...|Teach edge make n...|\n",
      "|        139465|     755745|     818687|                 0|GB03KFZR339662263...|          VEF|       2122.0|       B|      Z|  unknown|2020-12-27 13:23:...|Teach edge make n...|\n",
      "+--------------+-----------+-----------+------------------+--------------------+-------------+-------------+--------+-------+---------+--------------------+--------------------+\n",
      "only showing top 20 rows\n",
      "\n"
     ]
    }
   ],
   "source": [
    "#create fact_table\n",
    "fact_table = df.join(transaction, on=['Transaction_Date','Amount','Transaction_Type'],how='left')\\\n",
    "               .join(customer,on=['Customer_Name','Customer_Address','Customer_City','Customer_State','Customer_Country','Email','Phone_Number'],how='left')\\\n",
    "               .join(employee,on=['Company','Job_Title','Gender','Marital_Status'],how='left')\\\n",
    "               .select('transaction_id','customer_id','employee_id','Credit_Card_Number','IBAN','Currency_Code','Random_Number','Category','Group','Is_Active','Last_Updated','Description')\n",
    "fact_table.show()"
   ]
  },
  {
   "cell_type": "markdown",
   "metadata": {},
   "source": [
    "create fact_table dataframe pandas"
   ]
  },
  {
   "cell_type": "code",
   "execution_count": 45,
   "metadata": {},
   "outputs": [],
   "source": [
    "fact_df = fact_table.toPandas()"
   ]
  },
  {
   "cell_type": "code",
   "execution_count": 47,
   "metadata": {},
   "outputs": [
    {
     "data": {
      "text/html": [
       "<div>\n",
       "<style scoped>\n",
       "    .dataframe tbody tr th:only-of-type {\n",
       "        vertical-align: middle;\n",
       "    }\n",
       "\n",
       "    .dataframe tbody tr th {\n",
       "        vertical-align: top;\n",
       "    }\n",
       "\n",
       "    .dataframe thead th {\n",
       "        text-align: right;\n",
       "    }\n",
       "</style>\n",
       "<table border=\"1\" class=\"dataframe\">\n",
       "  <thead>\n",
       "    <tr style=\"text-align: right;\">\n",
       "      <th></th>\n",
       "      <th>transaction_id</th>\n",
       "      <th>customer_id</th>\n",
       "      <th>employee_id</th>\n",
       "      <th>Credit_Card_Number</th>\n",
       "      <th>IBAN</th>\n",
       "      <th>Currency_Code</th>\n",
       "      <th>Random_Number</th>\n",
       "      <th>Category</th>\n",
       "      <th>Group</th>\n",
       "      <th>Is_Active</th>\n",
       "      <th>Last_Updated</th>\n",
       "      <th>Description</th>\n",
       "    </tr>\n",
       "  </thead>\n",
       "  <tbody>\n",
       "    <tr>\n",
       "      <th>0</th>\n",
       "      <td>342892</td>\n",
       "      <td>846110</td>\n",
       "      <td>6</td>\n",
       "      <td>3518317232148905</td>\n",
       "      <td>GB65HEYL93762047073654</td>\n",
       "      <td>RSD</td>\n",
       "      <td>5419.0</td>\n",
       "      <td>D</td>\n",
       "      <td>X</td>\n",
       "      <td>No</td>\n",
       "      <td>2023-11-23 03:03:55.947701</td>\n",
       "      <td>Enjoy interview crime watch many billion movie.</td>\n",
       "    </tr>\n",
       "    <tr>\n",
       "      <th>1</th>\n",
       "      <td>117922</td>\n",
       "      <td>527659</td>\n",
       "      <td>3</td>\n",
       "      <td>501840097544</td>\n",
       "      <td>GB38LHXK41686563199390</td>\n",
       "      <td>KZT</td>\n",
       "      <td>5100.0</td>\n",
       "      <td>unknown</td>\n",
       "      <td>X</td>\n",
       "      <td>Yes</td>\n",
       "      <td>2023-05-25 23:02:19.248626</td>\n",
       "      <td>unknown</td>\n",
       "    </tr>\n",
       "    <tr>\n",
       "      <th>2</th>\n",
       "      <td>306316</td>\n",
       "      <td>210891</td>\n",
       "      <td>35</td>\n",
       "      <td>4399041019463442</td>\n",
       "      <td>GB10ALQO47142963184388</td>\n",
       "      <td>ZWD</td>\n",
       "      <td>1743.0</td>\n",
       "      <td>unknown</td>\n",
       "      <td>unknown</td>\n",
       "      <td>No</td>\n",
       "      <td>2020-09-30 23:58:08.573704</td>\n",
       "      <td>Air section environment.</td>\n",
       "    </tr>\n",
       "    <tr>\n",
       "      <th>3</th>\n",
       "      <td>226337</td>\n",
       "      <td>796830</td>\n",
       "      <td>22</td>\n",
       "      <td>4394242486211307</td>\n",
       "      <td>GB53EVQP31770580904518</td>\n",
       "      <td>CRC</td>\n",
       "      <td>8015.0</td>\n",
       "      <td>D</td>\n",
       "      <td>Y</td>\n",
       "      <td>No</td>\n",
       "      <td>2023-12-18 18:04:16.141820</td>\n",
       "      <td>Few move last behavior run smile pattern.</td>\n",
       "    </tr>\n",
       "    <tr>\n",
       "      <th>4</th>\n",
       "      <td>649865</td>\n",
       "      <td>402283</td>\n",
       "      <td>26</td>\n",
       "      <td>349642907887383</td>\n",
       "      <td>GB40LQGI08457726118321</td>\n",
       "      <td>CUP</td>\n",
       "      <td>0.0</td>\n",
       "      <td>unknown</td>\n",
       "      <td>unknown</td>\n",
       "      <td>No</td>\n",
       "      <td>2021-09-08 09:32:37.149013</td>\n",
       "      <td>Follow room produce off international simple own.</td>\n",
       "    </tr>\n",
       "    <tr>\n",
       "      <th>...</th>\n",
       "      <td>...</td>\n",
       "      <td>...</td>\n",
       "      <td>...</td>\n",
       "      <td>...</td>\n",
       "      <td>...</td>\n",
       "      <td>...</td>\n",
       "      <td>...</td>\n",
       "      <td>...</td>\n",
       "      <td>...</td>\n",
       "      <td>...</td>\n",
       "      <td>...</td>\n",
       "      <td>...</td>\n",
       "    </tr>\n",
       "    <tr>\n",
       "      <th>8128414</th>\n",
       "      <td>436501</td>\n",
       "      <td>32613</td>\n",
       "      <td>879757</td>\n",
       "      <td>4962604391246634752</td>\n",
       "      <td>GB20EZKH48949558380745</td>\n",
       "      <td>BIF</td>\n",
       "      <td>0.0</td>\n",
       "      <td>A</td>\n",
       "      <td>Z</td>\n",
       "      <td>No</td>\n",
       "      <td>2021-03-31 17:25:28.796448</td>\n",
       "      <td>unknown</td>\n",
       "    </tr>\n",
       "    <tr>\n",
       "      <th>8128415</th>\n",
       "      <td>436501</td>\n",
       "      <td>32613</td>\n",
       "      <td>880132</td>\n",
       "      <td>4962604391246634752</td>\n",
       "      <td>GB20EZKH48949558380745</td>\n",
       "      <td>BIF</td>\n",
       "      <td>0.0</td>\n",
       "      <td>A</td>\n",
       "      <td>Z</td>\n",
       "      <td>No</td>\n",
       "      <td>2021-03-31 17:25:28.796448</td>\n",
       "      <td>unknown</td>\n",
       "    </tr>\n",
       "    <tr>\n",
       "      <th>8128416</th>\n",
       "      <td>436501</td>\n",
       "      <td>32613</td>\n",
       "      <td>887388</td>\n",
       "      <td>4962604391246634752</td>\n",
       "      <td>GB20EZKH48949558380745</td>\n",
       "      <td>BIF</td>\n",
       "      <td>0.0</td>\n",
       "      <td>A</td>\n",
       "      <td>Z</td>\n",
       "      <td>No</td>\n",
       "      <td>2021-03-31 17:25:28.796448</td>\n",
       "      <td>unknown</td>\n",
       "    </tr>\n",
       "    <tr>\n",
       "      <th>8128417</th>\n",
       "      <td>436501</td>\n",
       "      <td>32613</td>\n",
       "      <td>898369</td>\n",
       "      <td>4962604391246634752</td>\n",
       "      <td>GB20EZKH48949558380745</td>\n",
       "      <td>BIF</td>\n",
       "      <td>0.0</td>\n",
       "      <td>A</td>\n",
       "      <td>Z</td>\n",
       "      <td>No</td>\n",
       "      <td>2021-03-31 17:25:28.796448</td>\n",
       "      <td>unknown</td>\n",
       "    </tr>\n",
       "    <tr>\n",
       "      <th>8128418</th>\n",
       "      <td>436501</td>\n",
       "      <td>32613</td>\n",
       "      <td>898697</td>\n",
       "      <td>4962604391246634752</td>\n",
       "      <td>GB20EZKH48949558380745</td>\n",
       "      <td>BIF</td>\n",
       "      <td>0.0</td>\n",
       "      <td>A</td>\n",
       "      <td>Z</td>\n",
       "      <td>No</td>\n",
       "      <td>2021-03-31 17:25:28.796448</td>\n",
       "      <td>unknown</td>\n",
       "    </tr>\n",
       "  </tbody>\n",
       "</table>\n",
       "<p>8128419 rows × 12 columns</p>\n",
       "</div>"
      ],
      "text/plain": [
       "         transaction_id  customer_id  employee_id   Credit_Card_Number  \\\n",
       "0                342892       846110            6     3518317232148905   \n",
       "1                117922       527659            3         501840097544   \n",
       "2                306316       210891           35     4399041019463442   \n",
       "3                226337       796830           22     4394242486211307   \n",
       "4                649865       402283           26      349642907887383   \n",
       "...                 ...          ...          ...                  ...   \n",
       "8128414          436501        32613       879757  4962604391246634752   \n",
       "8128415          436501        32613       880132  4962604391246634752   \n",
       "8128416          436501        32613       887388  4962604391246634752   \n",
       "8128417          436501        32613       898369  4962604391246634752   \n",
       "8128418          436501        32613       898697  4962604391246634752   \n",
       "\n",
       "                           IBAN Currency_Code  Random_Number Category  \\\n",
       "0        GB65HEYL93762047073654           RSD         5419.0        D   \n",
       "1        GB38LHXK41686563199390           KZT         5100.0  unknown   \n",
       "2        GB10ALQO47142963184388           ZWD         1743.0  unknown   \n",
       "3        GB53EVQP31770580904518           CRC         8015.0        D   \n",
       "4        GB40LQGI08457726118321           CUP            0.0  unknown   \n",
       "...                         ...           ...            ...      ...   \n",
       "8128414  GB20EZKH48949558380745           BIF            0.0        A   \n",
       "8128415  GB20EZKH48949558380745           BIF            0.0        A   \n",
       "8128416  GB20EZKH48949558380745           BIF            0.0        A   \n",
       "8128417  GB20EZKH48949558380745           BIF            0.0        A   \n",
       "8128418  GB20EZKH48949558380745           BIF            0.0        A   \n",
       "\n",
       "           Group Is_Active               Last_Updated  \\\n",
       "0              X        No 2023-11-23 03:03:55.947701   \n",
       "1              X       Yes 2023-05-25 23:02:19.248626   \n",
       "2        unknown        No 2020-09-30 23:58:08.573704   \n",
       "3              Y        No 2023-12-18 18:04:16.141820   \n",
       "4        unknown        No 2021-09-08 09:32:37.149013   \n",
       "...          ...       ...                        ...   \n",
       "8128414        Z        No 2021-03-31 17:25:28.796448   \n",
       "8128415        Z        No 2021-03-31 17:25:28.796448   \n",
       "8128416        Z        No 2021-03-31 17:25:28.796448   \n",
       "8128417        Z        No 2021-03-31 17:25:28.796448   \n",
       "8128418        Z        No 2021-03-31 17:25:28.796448   \n",
       "\n",
       "                                               Description  \n",
       "0          Enjoy interview crime watch many billion movie.  \n",
       "1                                                  unknown  \n",
       "2                                 Air section environment.  \n",
       "3                Few move last behavior run smile pattern.  \n",
       "4        Follow room produce off international simple own.  \n",
       "...                                                    ...  \n",
       "8128414                                            unknown  \n",
       "8128415                                            unknown  \n",
       "8128416                                            unknown  \n",
       "8128417                                            unknown  \n",
       "8128418                                            unknown  \n",
       "\n",
       "[8128419 rows x 12 columns]"
      ]
     },
     "execution_count": 47,
     "metadata": {},
     "output_type": "execute_result"
    }
   ],
   "source": [
    "fact_df"
   ]
  },
  {
   "cell_type": "code",
   "execution_count": 49,
   "metadata": {},
   "outputs": [],
   "source": [
    "transaction_df = transaction.toPandas()"
   ]
  },
  {
   "cell_type": "code",
   "execution_count": 51,
   "metadata": {},
   "outputs": [],
   "source": [
    "customer_df = customer.toPandas()"
   ]
  },
  {
   "cell_type": "code",
   "execution_count": 53,
   "metadata": {},
   "outputs": [],
   "source": [
    "employee_df = employee.toPandas()"
   ]
  },
  {
   "cell_type": "markdown",
   "metadata": {},
   "source": [
    "save data to csv"
   ]
  },
  {
   "cell_type": "code",
   "execution_count": 60,
   "metadata": {},
   "outputs": [],
   "source": [
    "fact_df.to_csv(r'E:\\10alytics Data Engineering\\week 9\\Nuga-Bank-ETL-Case-Study\\transformed data\\fact_table.csv',index=False)"
   ]
  },
  {
   "cell_type": "code",
   "execution_count": 62,
   "metadata": {},
   "outputs": [],
   "source": [
    "transaction_df.to_csv(r'E:\\10alytics Data Engineering\\week 9\\Nuga-Bank-ETL-Case-Study\\transformed data\\transaction.csv',index=False)"
   ]
  },
  {
   "cell_type": "code",
   "execution_count": 64,
   "metadata": {},
   "outputs": [],
   "source": [
    "customer_df.to_csv(r'E:\\10alytics Data Engineering\\week 9\\Nuga-Bank-ETL-Case-Study\\transformed data\\customer.csv',index=False)"
   ]
  },
  {
   "cell_type": "code",
   "execution_count": 66,
   "metadata": {},
   "outputs": [],
   "source": [
    "employee_df.to_csv(r'E:\\10alytics Data Engineering\\week 9\\Nuga-Bank-ETL-Case-Study\\transformed data\\employee.csv',index=False)"
   ]
  },
  {
   "cell_type": "code",
   "execution_count": null,
   "metadata": {},
   "outputs": [],
   "source": []
  }
 ],
 "metadata": {
  "kernelspec": {
   "display_name": "Python 3 (ipykernel)",
   "language": "python",
   "name": "python3"
  },
  "language_info": {
   "codemirror_mode": {
    "name": "ipython",
    "version": 3
   },
   "file_extension": ".py",
   "mimetype": "text/x-python",
   "name": "python",
   "nbconvert_exporter": "python",
   "pygments_lexer": "ipython3",
   "version": "3.9.7"
  }
 },
 "nbformat": 4,
 "nbformat_minor": 4
}
